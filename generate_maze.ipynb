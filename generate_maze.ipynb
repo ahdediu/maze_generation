{
 "cells": [
  {
   "metadata": {},
   "cell_type": "markdown",
   "source": [
    "# Maze Generation by Random Walks\n",
    "A graph $G$ is a touple $(V,E)$ where \n",
    "$V$ is a set of verices, \n",
    "$E=\\{\\{v_1,v_2\\} | v_1, v_2 \\in V\\}$ is a set of edges.\n",
    "\\begin{align*}\n",
    "& \\text{A graph} \\quad G \\text{ is a tuple} \\quad (V,E) \\quad \\text{where} \\\\\n",
    "& V \\text{ is a set of vertices}, \\\\\n",
    "& E=\\{\\{v_1,v_2\\} | v_1, v_2 \\in V\\} \\text{ is a set of edges}.\n",
    "\\end{align*}\n",
    "- A graph $G$ is a tuple $(V,E)$ where:\n",
    "    - $V$ is a set of vertices,\n",
    "    - $E=\\{\\{v_1,v_2\\} | v_1, v_2 \\in V\\}$ is a set of edges.\n",
    "A graph $G$ is a tuple $(V,E)$ where:\n",
    "\n",
    "> $V$ is a set of vertices,\n",
    "\n",
    "> $E=\\{\\{v_1,v_2\\} | v_1, v_2 \\in V\\}$ is a set of edges."
   ],
   "id": "3bcaea99b5042d5b"
  },
  {
   "metadata": {},
   "cell_type": "raw",
   "source": "",
   "id": "8b87fdddd1065d96"
  },
  {
   "metadata": {},
   "cell_type": "code",
   "outputs": [],
   "execution_count": null,
   "source": "",
   "id": "3747d6820c7ca13"
  }
 ],
 "metadata": {
  "kernelspec": {
   "display_name": "Python 3",
   "language": "python",
   "name": "python3"
  },
  "language_info": {
   "codemirror_mode": {
    "name": "ipython",
    "version": 2
   },
   "file_extension": ".py",
   "mimetype": "text/x-python",
   "name": "python",
   "nbconvert_exporter": "python",
   "pygments_lexer": "ipython2",
   "version": "2.7.6"
  }
 },
 "nbformat": 4,
 "nbformat_minor": 5
}
